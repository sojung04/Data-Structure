{
 "cells": [
  {
   "cell_type": "markdown",
   "metadata": {
    "vscode": {
     "languageId": "plaintext"
    }
   },
   "source": [
    "## 과제 3번\n",
    "생일 데이터를 교재 코드(heap.py)를 이용해 힙으로 저장하고, 생일이 느린 순서로 10명의 친구를 출력하는 코드를 작성한다.\n",
    "\n",
    "```python\n",
    "#코드내용\n",
    "```"
   ]
  },
  {
   "cell_type": "code",
   "execution_count": 1,
   "metadata": {},
   "outputs": [
    {
     "ename": "ModuleNotFoundError",
     "evalue": "No module named 'heap'",
     "output_type": "error",
     "traceback": [
      "\u001b[1;31m---------------------------------------------------------------------------\u001b[0m",
      "\u001b[1;31mModuleNotFoundError\u001b[0m                       Traceback (most recent call last)",
      "Cell \u001b[1;32mIn[1], line 1\u001b[0m\n\u001b[1;32m----> 1\u001b[0m \u001b[38;5;28;01mfrom\u001b[39;00m \u001b[38;5;21;01mheap\u001b[39;00m \u001b[38;5;28;01mimport\u001b[39;00m Heap\n\u001b[0;32m      2\u001b[0m \u001b[38;5;28;01mimport\u001b[39;00m \u001b[38;5;21;01mpandas\u001b[39;00m \u001b[38;5;28;01mas\u001b[39;00m \u001b[38;5;21;01mpd\u001b[39;00m\n\u001b[0;32m      4\u001b[0m df \u001b[38;5;241m=\u001b[39m pd\u001b[38;5;241m.\u001b[39mread_csv(\u001b[38;5;124m'\u001b[39m\u001b[38;5;124mC:/Users/ysoju/OneDrive/문서/성신여자대학교/3학년 1학기/자료구조/8. heap/birthday.csv\u001b[39m\u001b[38;5;124m'\u001b[39m)\n",
      "\u001b[1;31mModuleNotFoundError\u001b[0m: No module named 'heap'"
     ]
    }
   ],
   "source": [
    "from heap import Heap\n",
    "import pandas as pd\n",
    "\n",
    "df = pd.read_csv('C:/Users/ysoju/OneDrive/문서/성신여자대학교/3학년 1학기/자료구조/8. heap/birthday.csv')\n",
    "\n",
    "birthdayPairs = df[['이름', '생년월일']].dropna().values.tolist()\n",
    "\n",
    "birthdayHeap = Heap()\n",
    "for name, birth in birthdayPairs:\n",
    "    birthdayHeap.insert((int(birth), name))\n",
    "\n",
    "for i in range(10):\n",
    "    birth, name = birthdayHeap.deleteMax()\n",
    "    print(f'{i+1}. {name} : {birth}')"
   ]
  },
  {
   "cell_type": "markdown",
   "metadata": {},
   "source": [
    "## 과제 4번\n",
    "생일 데이터를 교재 코드(circularDoublyLinkedList.py)를 이용해 리스트로 저장하고, 같은 조(지난 과제 지정 조원 참조)의 친구들만 이름과 생년월일을 출력하는 코드를 작성한다. \n",
    "\n",
    "```python\n",
    "#코드내용\n",
    "```"
   ]
  },
  {
   "cell_type": "markdown",
   "metadata": {},
   "source": [
    "## 과제 5번\n",
    "CHAPTER 8 큐 연습문제\n",
    "\n",
    "### CH 8 - 1\n",
    "\n",
    "임의의 최대 힙에서 더 얕은 곳에 있는 원소가 더 깊은 곳에 있는 원소보다 더 작은 값을 가질 수 있다. 두 원소가 직접적으로 부모노드-자식노드 관계로 연결되어 있지 않다면 상대적으로 얕은 곳에 위치하더라도 깊은 곳에 있는 원소보다 작은 값을 가져도 최대 힙의 조건에 어긋나지 않는다.\n",
    "\n",
    "### CH 8 - 2\n",
    "\n",
    "최대 힙에서 A[0]은 항상 가장 큰 값을 가지지만, 마지막 원소인 A[n-1]이 항상 가장 작은 값을 가지는 것은 아니다. 위의 1번 문제에서 언급했듯이, 최대 힙에서는 두 원소가 직접적으로 부모노드-자식노드 관계로 연결되어 있지 않다면 얕은 곳에 위치하는 원소가 그보다 더 깊은 곳에 있는 원소보다 작은 값을 가질 수 있다. 따라서 A[n-1]은 자신의 부모 노드보다 작은 값만 가지면 최대 힙의 조건을 만족하므로, 부모 노드가 아닌 다른 노드들보다는 큰 값을 가지게 될 수 있다.\n",
    "\n",
    "### CH 8 - 3\n",
    "\n",
    "?\n",
    "\n",
    "### CH 8 - 4\n",
    "\n",
    "최선의 경우 : Θ(1)\n",
    "\n",
    "최악의 경우 : Θ(nlogn)\n",
    "\n",
    "최선의 경우 한 번만 heapify를 하면 되므로 상수 시간이 걸린다. 하지만 최악의 경우 완전 이진 트리의 높이에 해당하는 만큼 heapify를 진행해야 하기 때문에 logn에 비례하는 시간이 걸리게 된다.\n",
    "\n",
    "### CH 8 - 5\n",
    "\n",
    "힙의 맨 마지막 원소를 삭제하는 작업은 매우 복잡한 일이다. 그 이유는 힙인 상태에서 원소 삭제는 루트 노드만을 대상으로 하므로, 맨 마지막 원소를 루트 노드로 만들기 위해 현재의 루트 노드를 삭제하고 heapify하여 다시 힙으로 만드는 과정을 계속해서 반복해야 하기 때문이다. \n",
    "\n",
    "### CH 8 - 6\n",
    "\n",
    "?\n",
    "\n",
    "### CH 8 - 7\n",
    "\n",
    "?"
   ]
  },
  {
   "cell_type": "markdown",
   "metadata": {},
   "source": [
    "## 과제 6번\n",
    "LeetCode 703"
   ]
  },
  {
   "cell_type": "code",
   "execution_count": 4,
   "metadata": {},
   "outputs": [
    {
     "name": "stdout",
     "output_type": "stream",
     "text": [
      "4\n",
      "5\n",
      "5\n",
      "8\n",
      "8\n"
     ]
    }
   ],
   "source": [
    "import heapq\n",
    "\n",
    "class KthLargest:\n",
    "\n",
    "\tdef __init__(self, k: int, nums: [int]):\n",
    "\t\t\n",
    "\t\tself.k = k\n",
    "\t\tself.heap = []\n",
    "\n",
    "\t\tfor i in nums:\n",
    "\t\t\tself.add(i)\n",
    "\n",
    "\tdef add(self, val: int) -> int:\n",
    "\n",
    "\t\theapq.heappush(self.heap, val)\n",
    "\n",
    "\t\tif len(self.heap) > self.k:\n",
    "\t\t\theapq.heappop(self.heap)\n",
    "\t\t# 힙 크기가 k보다 클 경우, 가장 작은 값을 pop함\n",
    "\n",
    "\t\treturn self.heap[0]\n",
    "\t\t# min heap이므로, heap의 0번 원소가 k번째로 작은 원소가 됨\n",
    "\n",
    "kthLargest = KthLargest(3, [4, 5, 8, 2])\n",
    "print(kthLargest.add(3))\n",
    "print(kthLargest.add(5))\n",
    "print(kthLargest.add(10))\n",
    "print(kthLargest.add(9))\n",
    "print(kthLargest.add(4))"
   ]
  }
 ],
 "metadata": {
  "kernelspec": {
   "display_name": "Python 3",
   "language": "python",
   "name": "python3"
  },
  "language_info": {
   "codemirror_mode": {
    "name": "ipython",
    "version": 3
   },
   "file_extension": ".py",
   "mimetype": "text/x-python",
   "name": "python",
   "nbconvert_exporter": "python",
   "pygments_lexer": "ipython3",
   "version": "3.9.13"
  }
 },
 "nbformat": 4,
 "nbformat_minor": 2
}
